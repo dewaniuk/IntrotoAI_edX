{
 "cells": [
  {
   "cell_type": "code",
   "execution_count": 3,
   "metadata": {},
   "outputs": [
    {
     "name": "stdout",
     "output_type": "stream",
     "text": [
      "b'{\"Results\":{\"output1\":[{\"PatientID\":\"1\",\"Physician\":null,\"DiabetesPrediction\":\"1\",\"Probability\":\"0.786504030227661\"}]}}'\n"
     ]
    }
   ],
   "source": [
    "import urllib.request\n",
    "import json\n",
    "\n",
    "data = {\n",
    "        \"Inputs\": {\n",
    "                \"input1\":\n",
    "                [\n",
    "                    {\n",
    "                            'PatientID': \"1\",   \n",
    "                            'Pregnancies': \"0\",   \n",
    "                            'PlasmaGlucose': \"300\",   \n",
    "                            'DiastolicBloodPressure': \"120\",   \n",
    "                            'TricepsThickness': \"1\",   \n",
    "                            'SerumInsulin': \"500\",   \n",
    "                            'BMI': \"421\",   \n",
    "                            'DiabetesPedigree': \"0\",   \n",
    "                            'Age': \"32\",   \n",
    "                    }\n",
    "                ],\n",
    "        },\n",
    "    \"GlobalParameters\":  {\n",
    "    }\n",
    "}\n",
    "\n",
    "body = str.encode(json.dumps(data))\n",
    "\n",
    "url = 'https://uswestcentral.services.azureml.net/subscriptions/3ab25683a8b047fba0dcd768810293d6/services/2a830d4e466b4289b483f86cc33a9669/execute?api-version=2.0&format=swagger'\n",
    "api_key = 'KCBf/wm+5VADtjO6X9MDb1YZFlrbG68vQ7WX5fX6MQWeLOiKEI5JhVoJLvygsDf4Pfn5aSDsd8vBzyjOZTT/yA==' # Replace this with the API key for the web service\n",
    "headers = {'Content-Type':'application/json', 'Authorization':('Bearer '+ api_key)}\n",
    "\n",
    "req = urllib.request.Request(url, body, headers)\n",
    "\n",
    "try:\n",
    "    response = urllib.request.urlopen(req)\n",
    "\n",
    "    result = response.read()\n",
    "    print(result)\n",
    "except urllib.error.HTTPError as error:\n",
    "    print(\"The request failed with status code: \" + str(error.code))\n",
    "\n",
    "    # Print the headers - they include the requert ID and the timestamp, which are useful for debugging the failure\n",
    "    print(error.info())\n",
    "    print(json.loads(error.read().decode(\"utf8\", 'ignore')))"
   ]
  },
  {
   "cell_type": "code",
   "execution_count": null,
   "metadata": {},
   "outputs": [],
   "source": []
  }
 ],
 "metadata": {
  "kernelspec": {
   "display_name": "Python 3",
   "language": "python",
   "name": "python3"
  },
  "language_info": {
   "codemirror_mode": {
    "name": "ipython",
    "version": 3
   },
   "file_extension": ".py",
   "mimetype": "text/x-python",
   "name": "python",
   "nbconvert_exporter": "python",
   "pygments_lexer": "ipython3",
   "version": "3.6.4"
  }
 },
 "nbformat": 4,
 "nbformat_minor": 2
}
